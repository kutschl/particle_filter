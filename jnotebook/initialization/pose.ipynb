{
 "cells": [
  {
   "cell_type": "markdown",
   "metadata": {},
   "source": [
    "# Initialize Pose"
   ]
  },
  {
   "cell_type": "code",
   "execution_count": 43,
   "metadata": {},
   "outputs": [],
   "source": [
    "#   [X] receive initial pose with covariance from ROS parameter\n",
    "#   [X] generate particles around the initial pose uniformly or based on the covariance\n",
    "#   [X] subscribe to /initialpose topic to get messages from RViz (2D Pose Estimation function) to reset the pose\n",
    "#   [ ] self.click_sub = rospy.Subscriber(\"/clicked_point\", PointStamped, self.clicked_pose, queue_size=1)"
   ]
  },
  {
   "cell_type": "markdown",
   "metadata": {},
   "source": [
    "### initial pose with covariance "
   ]
  },
  {
   "cell_type": "code",
   "execution_count": 25,
   "metadata": {},
   "outputs": [],
   "source": [
    "import numpy as np \n",
    "\n",
    "num_particles = 1000\n",
    "\n",
    "# initial pose from ROS parameter\n",
    "x = 0.0 \n",
    "y = 0.0 \n",
    "theta = 0.0 \n",
    "mean = [x, y, theta]\n",
    "\n",
    "# initial cov from ROS parameter\n",
    "covariance = np.array([[0.5, 0.0, 0.0],\n",
    "                       [0.0, 0.5, 0.0],\n",
    "                       [0.0, 0.0, 0.1]])\n",
    "\n",
    "# particle distribution over multivariate normal distribution with mean = init_pose and covariance = init_cov\n",
    "particles = np.random.multivariate_normal(mean, covariance, size=num_particles)"
   ]
  },
  {
   "cell_type": "markdown",
   "metadata": {},
   "source": [
    "### global localization\n",
    "\n",
    "initial pose and initial covariance not given"
   ]
  },
  {
   "cell_type": "code",
   "execution_count": 29,
   "metadata": {},
   "outputs": [],
   "source": [
    "# ROS parameter\n",
    "initial_state = False \n",
    "\n",
    "# do not use initial state -> global localization \n",
    "if not initial_state: \n",
    "    \n",
    "    # particle distribution uniformly over all free cells in the occupancy grid\n",
    "    import numpy as np\n",
    "\n",
    "    num_particles = 1000\n",
    "\n",
    "    # map parameter: we want to use the whole map\n",
    "    map_width = 1000\n",
    "    map_height = 200\n",
    "\n",
    "    # ranges for selecting possible poses \n",
    "    x_range = [0, map_width]  \n",
    "    y_range = [0, map_height]  \n",
    "    theta_range = [-np.pi, np.pi]  \n",
    "\n",
    "    # particle distribution uniformly over the map \n",
    "    # TODO: use only free cells from the occupancy grid\n",
    "    particles = np.zeros((num_particles, 3))\n",
    "    particles[:, 0] = np.random.uniform(x_range[0], x_range[1], size=num_particles)  # x\n",
    "    particles[:, 1] = np.random.uniform(y_range[0], y_range[1], size=num_particles)  # y\n",
    "    particles[:, 2] = np.random.uniform(theta_range[0], theta_range[1], size=num_particles)  # theta\n"
   ]
  },
  {
   "cell_type": "markdown",
   "metadata": {},
   "source": [
    "### Reset Pose\n",
    "\n",
    "subscribe to /initialpose topic to get messages from RViz (2D Pose Estimation function) to reset the pose"
   ]
  },
  {
   "cell_type": "code",
   "execution_count": 42,
   "metadata": {},
   "outputs": [],
   "source": [
    "from geometry_msgs.msg import PoseWithCovarianceStamped\n",
    "from tf_transformations import euler_from_quaternion\n",
    "from geometry_msgs.msg import Quaternion\n",
    "\n",
    "num_particles = 1000\n",
    "\n",
    "def initial_pose_cb(msg: PoseWithCovarianceStamped):\n",
    "    # TODO: probably reset some stuff \n",
    "    \n",
    "    # extract position\n",
    "    x = msg.pose.pose.position.x\n",
    "    y = msg.pose.pose.position.y \n",
    "    \n",
    "    # extract orientation from quaternium \n",
    "    q : Quaternion = msg.pose.pose.orientation\n",
    "    _, _, theta = euler_from_quaternion(q.x, q.y, q.z, q.w)\n",
    "    \n",
    "    \n",
    "    # mean \n",
    "    mean = [x, y, theta]\n",
    "    \n",
    "    # covariance constants \n",
    "    POSE_COVARIANCE_XX = 0.5    \n",
    "    POSE_COVARIANCE_YY = 0.5\n",
    "    POSE_COVARIANCE_AA = 0.1\n",
    "    \n",
    "    # covariance\n",
    "    covariance = np.array([[POSE_COVARIANCE_XX, 0.0, 0.0],\n",
    "                        [0.0, POSE_COVARIANCE_YY, 0.0],\n",
    "                        [0.0, 0.0, POSE_COVARIANCE_AA]])\n",
    "    \n",
    "    # particle distribution over multivariate normal distribution with mean = init_pose and covariance = init_cov\n",
    "    particles = np.random.multivariate_normal(mean, covariance, size=num_particles)\n"
   ]
  },
  {
   "cell_type": "code",
   "execution_count": 41,
   "metadata": {},
   "outputs": [
    {
     "ename": "TypeError",
     "evalue": "Node._validate_qos_or_depth_parameter() missing 1 required positional argument: 'qos_or_depth'",
     "output_type": "error",
     "traceback": [
      "\u001b[0;31m---------------------------------------------------------------------------\u001b[0m",
      "\u001b[0;31mTypeError\u001b[0m                                 Traceback (most recent call last)",
      "Cell \u001b[0;32mIn[41], line 22\u001b[0m\n\u001b[1;32m      6\u001b[0m qos_profile \u001b[38;5;241m=\u001b[39m QoSProfile(\n\u001b[1;32m      7\u001b[0m     history\u001b[38;5;241m=\u001b[39mQoSHistoryPolicy\u001b[38;5;241m.\u001b[39mKEEP_LAST,         \u001b[38;5;66;03m# Keep only the last message\u001b[39;00m\n\u001b[1;32m      8\u001b[0m     depth\u001b[38;5;241m=\u001b[39m\u001b[38;5;241m1\u001b[39m,                                    \u001b[38;5;66;03m# Store only 1 message\u001b[39;00m\n\u001b[1;32m      9\u001b[0m     reliability\u001b[38;5;241m=\u001b[39mQoSReliabilityPolicy\u001b[38;5;241m.\u001b[39mRELIABLE,  \u001b[38;5;66;03m# Ensure reliable delivery\u001b[39;00m\n\u001b[1;32m     10\u001b[0m     durability\u001b[38;5;241m=\u001b[39mQoSDurabilityPolicy\u001b[38;5;241m.\u001b[39mVOLATILE     \u001b[38;5;66;03m# Messages are not persisted\u001b[39;00m\n\u001b[1;32m     11\u001b[0m )\n\u001b[1;32m     13\u001b[0m \u001b[38;5;66;03m# reliability=RELIABLE:\u001b[39;00m\n\u001b[1;32m     14\u001b[0m \u001b[38;5;66;03m#     Garantiert die Zustellung der Nachricht.\u001b[39;00m\n\u001b[1;32m     15\u001b[0m \u001b[38;5;66;03m#     Wichtig, da die Initial Pose eine kritische Information für das Lokalisierungssystem ist.\u001b[39;00m\n\u001b[0;32m   (...)\u001b[0m\n\u001b[1;32m     18\u001b[0m \u001b[38;5;66;03m#     Die Nachricht wird nur an Subscriber gesendet, die aktiv mit dem Publisher verbunden sind, während die Nachricht veröffentlicht wird.\u001b[39;00m\n\u001b[1;32m     19\u001b[0m \u001b[38;5;66;03m#     Das ist sinnvoll, da es keine historische Datenhaltung erfordert.\u001b[39;00m\n\u001b[0;32m---> 22\u001b[0m initial_pose_sub \u001b[38;5;241m=\u001b[39m \u001b[43mNode\u001b[49m\u001b[38;5;241;43m.\u001b[39;49m\u001b[43mcreate_subscription\u001b[49m\u001b[43m(\u001b[49m\u001b[43mNode\u001b[49m\u001b[43m,\u001b[49m\u001b[43m \u001b[49m\u001b[43mPoseWithCovarianceStamped\u001b[49m\u001b[43m,\u001b[49m\u001b[43m \u001b[49m\u001b[38;5;124;43m'\u001b[39;49m\u001b[38;5;124;43m/initial_pose\u001b[39;49m\u001b[38;5;124;43m'\u001b[39;49m\u001b[43m,\u001b[49m\u001b[43m \u001b[49m\u001b[43minitial_pose_cb\u001b[49m\u001b[43m,\u001b[49m\u001b[43m \u001b[49m\u001b[43mqos_profile\u001b[49m\u001b[38;5;241;43m=\u001b[39;49m\u001b[43mqos_profile\u001b[49m\u001b[43m)\u001b[49m\n",
      "File \u001b[0;32m/opt/ros/humble/local/lib/python3.10/dist-packages/rclpy/node.py:1345\u001b[0m, in \u001b[0;36mNode.create_subscription\u001b[0;34m(self, msg_type, topic, callback, qos_profile, callback_group, event_callbacks, qos_overriding_options, raw)\u001b[0m\n\u001b[1;32m   1316\u001b[0m \u001b[38;5;28;01mdef\u001b[39;00m \u001b[38;5;21mcreate_subscription\u001b[39m(\n\u001b[1;32m   1317\u001b[0m     \u001b[38;5;28mself\u001b[39m,\n\u001b[1;32m   1318\u001b[0m     msg_type,\n\u001b[0;32m   (...)\u001b[0m\n\u001b[1;32m   1326\u001b[0m     raw: \u001b[38;5;28mbool\u001b[39m \u001b[38;5;241m=\u001b[39m \u001b[38;5;28;01mFalse\u001b[39;00m\n\u001b[1;32m   1327\u001b[0m ) \u001b[38;5;241m-\u001b[39m\u001b[38;5;241m>\u001b[39m Subscription:\n\u001b[1;32m   1328\u001b[0m \u001b[38;5;250m    \u001b[39m\u001b[38;5;124;03m\"\"\"\u001b[39;00m\n\u001b[1;32m   1329\u001b[0m \u001b[38;5;124;03m    Create a new subscription.\u001b[39;00m\n\u001b[1;32m   1330\u001b[0m \n\u001b[0;32m   (...)\u001b[0m\n\u001b[1;32m   1343\u001b[0m \u001b[38;5;124;03m        representation.\u001b[39;00m\n\u001b[1;32m   1344\u001b[0m \u001b[38;5;124;03m    \"\"\"\u001b[39;00m\n\u001b[0;32m-> 1345\u001b[0m     qos_profile \u001b[38;5;241m=\u001b[39m \u001b[38;5;28;43mself\u001b[39;49m\u001b[38;5;241;43m.\u001b[39;49m\u001b[43m_validate_qos_or_depth_parameter\u001b[49m\u001b[43m(\u001b[49m\u001b[43mqos_profile\u001b[49m\u001b[43m)\u001b[49m\n\u001b[1;32m   1347\u001b[0m     callback_group \u001b[38;5;241m=\u001b[39m callback_group \u001b[38;5;129;01mor\u001b[39;00m \u001b[38;5;28mself\u001b[39m\u001b[38;5;241m.\u001b[39mdefault_callback_group\n\u001b[1;32m   1349\u001b[0m     \u001b[38;5;28;01mtry\u001b[39;00m:\n",
      "\u001b[0;31mTypeError\u001b[0m: Node._validate_qos_or_depth_parameter() missing 1 required positional argument: 'qos_or_depth'"
     ]
    }
   ],
   "source": [
    "# import rclpy \n",
    "# from rclpy.node import Node\n",
    "# from rclpy.qos import QoSProfile, QoSDurabilityPolicy, QoSReliabilityPolicy, QoSHistoryPolicy\n",
    "# from geometry_msgs.msg import PoseWithCovarianceStamped\n",
    "\n",
    "# qos_profile = QoSProfile(\n",
    "#     history=QoSHistoryPolicy.KEEP_LAST,         # Keep only the last message\n",
    "#     depth=1,                                    # Store only 1 message\n",
    "#     reliability=QoSReliabilityPolicy.RELIABLE,  # Ensure reliable delivery\n",
    "#     durability=QoSDurabilityPolicy.VOLATILE     # Messages are not persisted\n",
    "# )\n",
    "\n",
    "# # reliability=RELIABLE:\n",
    "# #     Garantiert die Zustellung der Nachricht.\n",
    "# #     Wichtig, da die Initial Pose eine kritische Information für das Lokalisierungssystem ist.\n",
    "\n",
    "# # durability=VOLATILE:\n",
    "# #     Die Nachricht wird nur an Subscriber gesendet, die aktiv mit dem Publisher verbunden sind, während die Nachricht veröffentlicht wird.\n",
    "# #     Das ist sinnvoll, da es keine historische Datenhaltung erfordert.\n",
    "\n",
    "\n",
    "# initial_pose_sub = Node.create_subscription(Node, PoseWithCovarianceStamped, '/initial_pose', initial_pose_cb, qos_profile)"
   ]
  }
 ],
 "metadata": {
  "kernelspec": {
   "display_name": "Python 3",
   "language": "python",
   "name": "python3"
  },
  "language_info": {
   "codemirror_mode": {
    "name": "ipython",
    "version": 3
   },
   "file_extension": ".py",
   "mimetype": "text/x-python",
   "name": "python",
   "nbconvert_exporter": "python",
   "pygments_lexer": "ipython3",
   "version": "3.10.12"
  }
 },
 "nbformat": 4,
 "nbformat_minor": 2
}
