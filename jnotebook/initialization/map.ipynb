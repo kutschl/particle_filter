{
 "cells": [
  {
   "cell_type": "markdown",
   "metadata": {},
   "source": [
    "# Initialize Map\n"
   ]
  },
  {
   "cell_type": "code",
   "execution_count": 1,
   "metadata": {},
   "outputs": [],
   "source": [
    "# map_init = False\n",
    "\n",
    "# while not map_init:\n",
    "\n",
    "    # map_occ_grid , map_info = get map with getMap service from nav_msgs \n",
    "\n",
    "# if range_method = GLT:\n",
    "#   compute a LUT from the map before starting with pf \n",
    "#   check if LUT computation is time intensive, otherwise use precomputed LUT from numpy file  "
   ]
  },
  {
   "cell_type": "code",
   "execution_count": null,
   "metadata": {},
   "outputs": [],
   "source": [
    "def get_omap(self):\n",
    "        '''\n",
    "        Fetch the occupancy grid map from the map_server instance, and initialize the correct\n",
    "        RangeLibc method. Also stores a matrix which indicates the permissible region of the map\n",
    "        '''\n",
    "        rospy.wait_for_service(\"static_map\")\n",
    "        map_msg = rospy.ServiceProxy(\"static_map\", GetMap)().map\n",
    "\n",
    "        self.map_info = map_msg.info\n",
    "        oMap = range_libc.PyOMap(map_msg)\n",
    "        self.MAX_RANGE_PX = int(\n",
    "            self.MAX_RANGE_METERS / self.map_info.resolution)\n",
    "\n",
    "        # initialize range method\n",
    "        rospy.loginfo(f\"Initializing range method: {self.WHICH_RM}\")\n",
    "        if self.WHICH_RM == \"bl\":\n",
    "            self.range_method = range_libc.PyBresenhamsLine(\n",
    "                oMap, self.MAX_RANGE_PX)\n",
    "        elif \"cddt\" in self.WHICH_RM:\n",
    "            self.range_method = range_libc.PyCDDTCast(\n",
    "                oMap, self.MAX_RANGE_PX, self.THETA_DISCRETIZATION)\n",
    "            if self.WHICH_RM == \"pcddt\":\n",
    "                rospy.loginfo(\"Pruning...\")\n",
    "                self.range_method.prune()\n",
    "        elif self.WHICH_RM == \"rm\":\n",
    "            self.range_method = range_libc.PyRayMarching(\n",
    "                oMap, self.MAX_RANGE_PX)\n",
    "        elif self.WHICH_RM == \"rmgpu\":\n",
    "            self.range_method = range_libc.PyRayMarchingGPU(\n",
    "                oMap, self.MAX_RANGE_PX)\n",
    "        elif self.WHICH_RM == \"glt\":\n",
    "            self.range_method = range_libc.PyGiantLUTCast(\n",
    "                oMap, self.MAX_RANGE_PX, self.THETA_DISCRETIZATION)\n",
    "        rospy.loginfo(\"Done loading map\")\n",
    "\n",
    "        # 0: permissible, -1: unmapped, 100: blocked\n",
    "        array_255 = np.array(map_msg.data).reshape(\n",
    "            (map_msg.info.height, map_msg.info.width))\n",
    "\n",
    "        # 0: not permissible, 1: permissible\n",
    "        self.permissible_region = np.zeros_like(array_255, dtype=bool)\n",
    "        self.permissible_region[array_255 == 0] = 1\n",
    "\n",
    "        # // Sanity Check\n",
    "        # _, axs = plt.subplots(nrows=2, ncols=1)\n",
    "        # axs[0].set_title(\"Original data\")\n",
    "        # axs[0].imshow(array_255)\n",
    "        # axs[1].set_title(\"Permissible Region\")\n",
    "        # im=axs[1].imshow(self.permissible_region)\n",
    "        # plt.colorbar(im, orientation=\"horizontal\")\n",
    "        # plt.show()\n",
    "\n",
    "        self.map_initialized = True"
   ]
  }
 ],
 "metadata": {
  "kernelspec": {
   "display_name": "Python 3",
   "language": "python",
   "name": "python3"
  },
  "language_info": {
   "codemirror_mode": {
    "name": "ipython",
    "version": 3
   },
   "file_extension": ".py",
   "mimetype": "text/x-python",
   "name": "python",
   "nbconvert_exporter": "python",
   "pygments_lexer": "ipython3",
   "version": "3.10.12"
  }
 },
 "nbformat": 4,
 "nbformat_minor": 2
}
